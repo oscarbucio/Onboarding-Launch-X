{
 "cells": [
  {
   "cell_type": "code",
   "execution_count": 27,
   "metadata": {},
   "outputs": [
    {
     "name": "stdout",
     "output_type": "stream",
     "text": [
      "La velocidad del asteroide es mayor a 25 km/s, cuidado¡¡¡\n"
     ]
    }
   ],
   "source": [
    "velocidad = 49\n",
    "limite = 25\n",
    "\n",
    "if velocidad > limite:\n",
    "    print('La velocidad del asteroide es mayor a 25 km/s, cuidado¡¡¡')\n",
    "else:\n",
    "    print('todo bien, sigue trabajando')"
   ]
  },
  {
   "cell_type": "code",
   "execution_count": 36,
   "metadata": {},
   "outputs": [
    {
     "name": "stdout",
     "output_type": "stream",
     "text": [
      "No hay nada en el cielo\n"
     ]
    }
   ],
   "source": [
    "velocidad = 19\n",
    "limite = 25\n",
    "rayo = 20\n",
    "\n",
    "if velocidad > rayo:\n",
    "    print('buscar rayo de luz')\n",
    "elif velocidad == rayo:\n",
    "    print(\"puede que veas un rayo de luz\")\n",
    "else:\n",
    "    print (\"No hay nada en el cielo\")\n"
   ]
  },
  {
   "cell_type": "code",
   "execution_count": 44,
   "metadata": {},
   "outputs": [
    {
     "name": "stdout",
     "output_type": "stream",
     "text": [
      "todo bien\n"
     ]
    }
   ],
   "source": [
    "velocidad = 19\n",
    "tamaño = 23\n",
    "\n",
    "if tamaño > 25 and velocidad > 25:\n",
    "    print('Un ateroide Grande viene a altas velocidades. Cuidado¡¡¡')\n",
    "elif velocidad >= 20:\n",
    "    print(\"Asteroide por caer, ver la luz\")\n",
    "elif tamaño < 25:\n",
    "    print (\"todo bien\")\n",
    "else:\n",
    "    print (\"No hay nada en el cielo\")"
   ]
  }
 ],
 "metadata": {
  "interpreter": {
   "hash": "a211ac24eb90f09919bb55540fbac0e61b0fd573c64077acfd1a3aa1b6be04ce"
  },
  "kernelspec": {
   "display_name": "Python 3.10.2 64-bit",
   "language": "python",
   "name": "python3"
  },
  "language_info": {
   "codemirror_mode": {
    "name": "ipython",
    "version": 3
   },
   "file_extension": ".py",
   "mimetype": "text/x-python",
   "name": "python",
   "nbconvert_exporter": "python",
   "pygments_lexer": "ipython3",
   "version": "3.10.2"
  },
  "orig_nbformat": 4
 },
 "nbformat": 4,
 "nbformat_minor": 2
}
