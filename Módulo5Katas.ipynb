{
  "cells": [
    {
      "cell_type": "code",
      "execution_count": 2,
      "metadata": {},
      "outputs": [],
      "source": [
        "# Crear variables para almacenar las dos distancias\n",
        "# ¡Asegúrate de quitar las comas!\n",
        "Tierra = 149597870\n",
        "Jupiter = 778547200"
      ]
    },
    {
      "cell_type": "markdown",
      "metadata": {},
      "source": [
        "### Realizar la operación\n",
        "\n",
        "Con los valores obtenidos, es el momento de añadir el código para realizar la operación. Restarás el primer planeta del segundo para determinar la distancia en kilómetros. A continuación, puedes convertir la distancia del kilómetro en millas multiplicándola por `1.609344`."
      ]
    },
    {
      "cell_type": "code",
      "execution_count": 16,
      "metadata": {},
      "outputs": [
        {
          "name": "stdout",
          "output_type": "stream",
          "text": [
            "628949330 Kilometros\n",
            "390577534 Millas\n"
          ]
        }
      ],
      "source": [
        "# Calcular la distancia entre planetas\n",
        "distancia = abs(Tierra - Jupiter)\n",
        "print(str(distancia) + ' Kilometros')\n",
        "distancia_mi = round(distancia * 0.621)\n",
        "print(str(distancia_mi) + ' Millas')"
      ]
    },
    {
      "cell_type": "markdown",
      "metadata": {},
      "source": [
        "### Prueba tu proyecto\n",
        "\n",
        "Con el código creado, ejecuta el notebook para obtener el resultado. Deberías recibir lo siguiente:\n",
        "\n",
        "```\n",
        "628949330\n",
        "390577534\n",
        "```\n",
        "\n",
        "> Recuerda: Lo importante es intentarlo, puedes auxiliarte de internet, libros, etc. El objetivo de una kata es la comprobación de la comprensión de la lección y su aplicación inmediata a la resolución de problemas. Go for it!\n",
        "\n",
        "---"
      ]
    },
    {
      "cell_type": "markdown",
      "metadata": {},
      "source": [
        "### Lee los valores\n",
        "Usando `input`, agrega el código para leer la distancia del sol para cada planeta, considerando 2 planetas."
      ]
    },
    {
      "cell_type": "code",
      "execution_count": 18,
      "metadata": {},
      "outputs": [],
      "source": [
        "# Almacenar las entradas del usuario\n",
        "#Pista: variable = input(\"¿Cuál es tu nombre?\")\n",
        "nombre1 = input('Nombre del PRIMER planeta')\n",
        "variable1 = input('Distancia del PRIMER Planeta')\n",
        "nombre2 = input('Nombre del SEGUNDO planeta')\n",
        "variable2 = input('Distancia del SEGUNDO Planeta')"
      ]
    },
    {
      "cell_type": "markdown",
      "metadata": {},
      "source": [
        "### Convertir a número\n",
        "Debido a que `input` devuelve valores de cadena, necesitamos convertirlos en números. Para nuestro ejemplo, usaremos `int`"
      ]
    },
    {
      "cell_type": "code",
      "execution_count": 20,
      "metadata": {},
      "outputs": [],
      "source": [
        "# Convierte las cadenas de ambos planetas a números enteros\n",
        "variable1 = int(variable1)\n",
        "variable2 = int(variable2)"
      ]
    },
    {
      "cell_type": "markdown",
      "metadata": {},
      "source": [
        "### Realizar el cálculo y convertir a valor absoluto\n",
        "\n",
        "Con los valores almacenados como números, ahora puedes agregar el código para realizar el cálculo, restando el primer planeta del segundo. Debido a que el segundo planeta podría ser un número mayor, usarás `abs` para convertirlo a un valor absoluto. También agregarás el código para mostrar el resultado en millas multiplicando la distancia del kilómetro por 0.621"
      ]
    },
    {
      "cell_type": "code",
      "execution_count": 28,
      "metadata": {},
      "outputs": [
        {
          "name": "stdout",
          "output_type": "stream",
          "text": [
            "Distancia en Kilometros del Planeta TIERRA al planeta VENUS: 2378 Kilometros.\n",
            "Distancia en Millas del Planeta TIERRA al planeta VENUS: 1477 Millas.\n"
          ]
        }
      ],
      "source": [
        "# Realizar el cálculo y determinar el valor absoluto\n",
        "distancia_km = abs(variable1-variable2)\n",
        "print('Distancia en Kilometros del Planeta ' + nombre1 + ' al planeta ' + nombre2 + ': ' + str(distancia_km) + ' Kilometros.')\n",
        "\n",
        "# Convertir de KM a Millas\n",
        "distancia_mi=round(distancia_km*0.621)\n",
        "print('Distancia en Millas del Planeta ' + nombre1 + ' al planeta ' + nombre2 + ': ' + str(distancia_mi) + ' Millas.')"
      ]
    },
    {
      "cell_type": "code",
      "execution_count": 32,
      "metadata": {},
      "outputs": [
        {
          "name": "stdout",
          "output_type": "stream",
          "text": [
            "Distancia en Kilometros del Planeta Mercurio al planeta Venus: 50300000 Kilometros.\n",
            "Distancia en Millas del Planeta Mercurio al planeta Venus: 31236300 Millas.\n"
          ]
        }
      ],
      "source": [
        "nombre1 = input('Nombre del PRIMER planeta')\n",
        "variable1 = input('Distancia del PRIMER Planeta')\n",
        "nombre2 = input('Nombre del SEGUNDO planeta')\n",
        "variable2 = input('Distancia del SEGUNDO Planeta')\n",
        "variable1 = int(variable1)\n",
        "variable2 = int(variable2)\n",
        "distancia_km = abs(variable1-variable2)\n",
        "print('Distancia en Kilometros del Planeta ' + nombre1 + ' al planeta ' + nombre2 + ': ' + str(distancia_km) + ' Kilometros.')\n",
        "distancia_mi=round(distancia_km*0.621)\n",
        "print('Distancia en Millas del Planeta ' + nombre1 + ' al planeta ' + nombre2 + ': ' + str(distancia_mi) + ' Millas.')"
      ]
    },
    {
      "cell_type": "markdown",
      "metadata": {},
      "source": [
        "### Prueba tu aplicación\n",
        "Para probar el proyecto, ejecuta tu notebook. En la parte superior de vscode surgirá un cuadro de diálogo para que proporciones las distancias. Puede utilizar los datos de la tabla siguiente:\n",
        "\n",
        "| Planeta  | Distancia al sol |\n",
        "| ------- | ----------------- |\n",
        "| Mercurio | 57900000          |\n",
        "| Venus   | 108200000         |\n",
        "| Tierra   | 149600000         |\n",
        "| Marte    | 227900000         |\n",
        "| Júpiter | 778600000         |\n",
        "| Saturno  | 1433500000        |\n",
        "| Urano  | 2872500000        |\n",
        "| Neptuno | 4495100000        |"
      ]
    }
  ],
  "metadata": {
    "interpreter": {
      "hash": "502cd6c3b6c9e666d195e1caff9d64ea12bf644e547a4c8fae84812082c54b6f"
    },
    "kernel_info": {
      "name": "conda-env-py37_default-py"
    },
    "kernelspec": {
      "display_name": "py37_default",
      "language": "python",
      "name": "python3"
    },
    "language_info": {
      "codemirror_mode": {
        "name": "ipython",
        "version": 3
      },
      "file_extension": ".py",
      "mimetype": "text/x-python",
      "name": "python",
      "nbconvert_exporter": "python",
      "pygments_lexer": "ipython3",
      "version": "3.10.2"
    },
    "nteract": {
      "version": "nteract-front-end@1.0.0"
    },
    "orig_nbformat": 4
  },
  "nbformat": 4,
  "nbformat_minor": 2
}
