{
  "cells": [
    {
      "cell_type": "code",
      "execution_count": 12,
      "metadata": {},
      "outputs": [],
      "source": [
        "# Función para leer 3 tanques de combustible y muestre el promedio\n",
        "\n",
        "def PromedioComb(tanque1, tanque2, tanque3):\n",
        "    prom = (tanque1 + tanque2 + tanque3) / 3\n",
        "    print('Promedio de Combustible: ' + str(round(prom)) + ' %')\n"
      ]
    },
    {
      "cell_type": "markdown",
      "metadata": {},
      "source": [
        "Ahora que hemos definido la función de informes, vamos a comprobarlo. Para esta misión, los tanques no están llenos:"
      ]
    },
    {
      "cell_type": "code",
      "execution_count": 13,
      "metadata": {},
      "outputs": [
        {
          "name": "stdout",
          "output_type": "stream",
          "text": [
            "Promedio de Combustible: 78 %\n",
            "None\n"
          ]
        }
      ],
      "source": [
        "\n",
        "# Llamamos a la función que genera el reporte print(funcion(tanque1, tanque2, tanque3))\n",
        "\n",
        "print(PromedioComb(80, 70, 85))"
      ]
    },
    {
      "cell_type": "markdown",
      "metadata": {},
      "source": [
        "En lugar de simplemente crear el informe, la función también está calculando el promedio. Mejora la legibilidad extrayendo el cálculo promedio de la función en una nueva función para que el promedio se pueda hacer de forma independiente:"
      ]
    },
    {
      "cell_type": "code",
      "execution_count": 1,
      "metadata": {},
      "outputs": [
        {
          "data": {
            "text/plain": [
              "78.33333333333333"
            ]
          },
          "execution_count": 1,
          "metadata": {},
          "output_type": "execute_result"
        }
      ],
      "source": [
        "# Función promedio \n",
        "\n",
        "def promedio(valores):\n",
        "    total = sum(valores)\n",
        "    datos = len (valores)\n",
        "    return total / datos\n",
        "\n",
        "promedio([80, 70, 85])"
      ]
    },
    {
      "cell_type": "markdown",
      "metadata": {},
      "source": [
        "Ahora actualiza la función de informes para llamando a la nueva función del promedio:\n"
      ]
    },
    {
      "cell_type": "code",
      "execution_count": 2,
      "metadata": {},
      "outputs": [],
      "source": [
        "# Actualiza la función\n",
        "\n",
        "def PromedioComb(tanque1, tanque2, tanque3):\n",
        "    prom = promedio([tanque1, tanque2, tanque3])\n",
        "    print('Promedio de Combustible: ' + str(round(prom)) + ' %')\n"
      ]
    },
    {
      "cell_type": "code",
      "execution_count": 3,
      "metadata": {},
      "outputs": [
        {
          "name": "stdout",
          "output_type": "stream",
          "text": [
            "Promedio de Combustible: 78 %\n"
          ]
        }
      ],
      "source": [
        "PromedioComb(80, 70, 85)"
      ]
    },
    {
      "cell_type": "markdown",
      "metadata": {},
      "source": [
        "## Ejercicio 2: Trabajo con argumentos de palabra clave"
      ]
    },
    {
      "cell_type": "markdown",
      "metadata": {},
      "source": [
        "### Ejercicio : Trabajar con argumentos de palabras clave en funciones\n",
        "En este ejercicio, construirás un informe de cohete que requiere varias piezas de información, como el tiempo hasta el destino, el combustible a la izquierda y el nombre del destino. Comienza por crear una función que creará un informe preciso de la misión:"
      ]
    },
    {
      "cell_type": "code",
      "execution_count": 17,
      "metadata": {},
      "outputs": [
        {
          "name": "stdout",
          "output_type": "stream",
          "text": [
            "\n",
            "    Destino del Vuelo: Marte\n",
            "    Tiempo de Prelanzamiento: 14 minutos\n",
            "    Tiempo de Vuelo: 75 minutos\n",
            "    Total de Tiempo: 89 minutos\n",
            "    Galones de los tanques: Tanque externo (50000) y tanque interno (20000)\n",
            "    \n"
          ]
        }
      ],
      "source": [
        "# Función con un informe preciso de la misión. Considera hora de prelanzamiento, tiempo de vuelo, destino, tanque externo y tanque interno\n",
        "\n",
        "def informe (prelanzamiento, tiempo, destino, tanq_ext, tanq_int):\n",
        "    return f\"\"\"\n",
        "    Destino del Vuelo: {destino}\n",
        "    Tiempo de Prelanzamiento: {prelanzamiento} minutos\n",
        "    Tiempo de Vuelo: {tiempo} minutos\n",
        "    Total de Tiempo: {prelanzamiento + tiempo} minutos\n",
        "    Galones de los tanques: Tanque externo ({tanq_ext}) y tanque interno ({tanq_int})\n",
        "    \"\"\"\n",
        "\n",
        "print(informe(14,75,'Marte',50000, 20000))"
      ]
    },
    {
      "cell_type": "markdown",
      "metadata": {},
      "source": [
        "La función es problemática porque no se puede adaptar para minutos adicionales o tanques adicionales de combustible. Hazlo más flexible permitiendo cualquier número de pasos basados en el tiempo y cualquier número de tanques. En lugar de usar `*args` y `**kwargs`, aprovecha el hecho de que puedes usar cualquier nombre que desees. Asegurate que la función sea más legible mediante el uso de nombres de variables que están asociados con las entradas, como `*minutes` y `**fuel_reservoirs`:"
      ]
    },
    {
      "cell_type": "code",
      "execution_count": 22,
      "metadata": {},
      "outputs": [
        {
          "name": "stdout",
          "output_type": "stream",
          "text": [
            "\n",
            "    Destino del Vuelo: Marte\n",
            "    Total de Tiempo: 100 minutos\n",
            "    Galones de los tanques: 30000\n",
            "\n"
          ]
        }
      ],
      "source": [
        "# Escribe tu nueva función de reporte considerando lo anterior\n",
        "\n",
        "def informe (destino, *tiempo, **tanques):\n",
        "    return f\"\"\"\n",
        "    Destino del Vuelo: {destino}\n",
        "    Total de Tiempo: {sum(tiempo)} minutos\n",
        "    Galones de los tanques: {sum(tanques.values())}\n",
        "\"\"\"\n",
        "\n",
        "print(informe('Marte',10,80,10, ext = 20000, int = 10000))\n"
      ]
    },
    {
      "cell_type": "markdown",
      "metadata": {},
      "source": [
        "Debido a que el combustible que queda en los tanques es específico de cada tanque, actualiza la función para usar el nombre de cada tanque en el informe:"
      ]
    },
    {
      "cell_type": "code",
      "execution_count": 40,
      "metadata": {},
      "outputs": [
        {
          "name": "stdout",
          "output_type": "stream",
          "text": [
            "\n",
            "    Destino del Vuelo: Marte\n",
            "    Total de Tiempo: 100 minutos\n",
            "    Galones de los tanques: 30000\n",
            "     ext: 20000 \n",
            "     int: 10000 \n",
            "\n"
          ]
        }
      ],
      "source": [
        "# Escribe tu nueva función\n",
        "\n",
        "def informe (destino, *tiempo, **tanques):\n",
        "    reporte = f\"\"\"\n",
        "    Destino del Vuelo: {destino}\n",
        "    Total de Tiempo: {sum(tiempo)} minutos\n",
        "    Galones de los tanques: {sum(tanques.values())}\n",
        "\"\"\"\n",
        "    for tanque, cantidad in tanques.items():\n",
        "        reporte += f\"\"\"     {tanque}: {str(cantidad)} \\n\"\"\"\n",
        "    return reporte\n",
        "\n",
        "print(informe('Marte',10,80,10, ext = 20000, int = 10000))\n"
      ]
    }
  ],
  "metadata": {
    "interpreter": {
      "hash": "205095b8b86ea82a021a8fc2ffba2b3bc9f8d0be25999901963b225939f75778"
    },
    "kernelspec": {
      "display_name": "Python 3.8.10 64-bit ('tmp': conda)",
      "name": "python3"
    },
    "language_info": {
      "codemirror_mode": {
        "name": "ipython",
        "version": 3
      },
      "file_extension": ".py",
      "mimetype": "text/x-python",
      "name": "python",
      "nbconvert_exporter": "python",
      "pygments_lexer": "ipython3",
      "version": "3.10.2"
    },
    "nteract": {
      "version": "nteract-front-end@1.0.0"
    },
    "orig_nbformat": 4
  },
  "nbformat": 4,
  "nbformat_minor": 2
}
